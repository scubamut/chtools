{
 "cells": [
  {
   "cell_type": "code",
   "execution_count": 1,
   "metadata": {},
   "outputs": [],
   "source": [
    "import pandas as pd\n",
    "from datetime import date\n",
    "import requests"
   ]
  },
  {
   "cell_type": "code",
   "execution_count": 2,
   "metadata": {},
   "outputs": [],
   "source": [
    "import chtools as ch"
   ]
  },
  {
   "cell_type": "markdown",
   "metadata": {},
   "source": [
    "#### get_api_key"
   ]
  },
  {
   "cell_type": "code",
   "execution_count": 3,
   "metadata": {},
   "outputs": [
    {
     "data": {
      "text/plain": [
       "****API KEY****"
      ]
     },
     "execution_count": 3,
     "metadata": {},
     "output_type": "execute_result"
    }
   ],
   "source": [
    "api_key = ch.get_api_key()\n",
    "api_key"
   ]
  },
  {
   "cell_type": "markdown",
   "metadata": {},
   "source": [
    "#### get_company_data"
   ]
  },
  {
   "cell_type": "code",
   "execution_count": 4,
   "metadata": {},
   "outputs": [
    {
     "name": "stdout",
     "output_type": "stream",
     "text": [
      "<class 'chtools.Company_Info.RegisteredOffice'>\n",
      "<class 'chtools.Company_Info.CompanyData'>\n"
     ]
    }
   ],
   "source": [
    "RegisteredOffice = ch.RegisteredOffice\n",
    "CompanyData = ch.CompanyData\n",
    "print(RegisteredOffice)\n",
    "print(CompanyData)"
   ]
  },
  {
   "cell_type": "code",
   "execution_count": 5,
   "metadata": {},
   "outputs": [
    {
     "data": {
      "text/plain": [
       "['address_line_1',\n",
       " 'address_line_2',\n",
       " 'postal_code',\n",
       " 'locality',\n",
       " 'region',\n",
       " 'country']"
      ]
     },
     "execution_count": 5,
     "metadata": {},
     "output_type": "execute_result"
    }
   ],
   "source": [
    "registered_office = [c[0] for c in RegisteredOffice.construct()]\n",
    "registered_office"
   ]
  },
  {
   "cell_type": "code",
   "execution_count": 6,
   "metadata": {},
   "outputs": [
    {
     "data": {
      "text/plain": [
       "['company_number',\n",
       " 'company_name',\n",
       " 'company_status',\n",
       " 'date_of_creation',\n",
       " 'registered_office_address',\n",
       " 'sic_codes',\n",
       " 'type']"
      ]
     },
     "execution_count": 6,
     "metadata": {},
     "output_type": "execute_result"
    }
   ],
   "source": [
    "company_data = [c[0] for c in CompanyData.construct()]\n",
    "company_data"
   ]
  },
  {
   "cell_type": "code",
   "execution_count": 7,
   "metadata": {},
   "outputs": [
    {
     "data": {
      "text/plain": [
       "[{'company_number': None},\n",
       " {'company_name': None},\n",
       " {'company_status': None},\n",
       " {'date_of_creation': None},\n",
       " {'registered_office_address': None},\n",
       " {'sic_codes': []},\n",
       " {'type': None}]"
      ]
     },
     "execution_count": 7,
     "metadata": {},
     "output_type": "execute_result"
    }
   ],
   "source": [
    "# Now you can create an empty instance\n",
    "# Using a loop\n",
    "company_without_data = [{c[0]:c[1]} for c in CompanyData.construct()]\n",
    "company_without_data"
   ]
  },
  {
   "cell_type": "code",
   "execution_count": 8,
   "metadata": {},
   "outputs": [
    {
     "name": "stdout",
     "output_type": "stream",
     "text": [
      "company_number            12345678\n",
      "company_name              Test Company\n",
      "company_status            active\n",
      "date_of_creation          2020-01-01\n",
      "registered_office_address address_line_1='123 Test St' address_line_2=None postal_code='SW1A 1AA' locality='London' region=None country='United Kingdom'\n",
      "sic_codes                 []\n",
      "type                      None\n"
     ]
    }
   ],
   "source": [
    "# Or create with some data\n",
    "company_with_data = CompanyData(\n",
    "    company_number=\"12345678\",\n",
    "    company_name=\"Test Company\",\n",
    "    company_status=\"active\",\n",
    "    date_of_creation=date(2020, 1, 1),\n",
    "    registered_office_address=RegisteredOffice(\n",
    "        address_line_1=\"123 Test St\",\n",
    "        locality=\"London\",\n",
    "        postal_code=\"SW1A 1AA\",\n",
    "        country=\"United Kingdom\"\n",
    "    )\n",
    ")\n",
    "for field, value in company_with_data:\n",
    "    print(f\"{field:<25} {value}\")"
   ]
  },
  {
   "cell_type": "markdown",
   "metadata": {},
   "source": [
    "#### get_constants_from_Config_class"
   ]
  },
  {
   "cell_type": "code",
   "execution_count": 18,
   "metadata": {},
   "outputs": [
    {
     "name": "stdout",
     "output_type": "stream",
     "text": [
      "{'BASE_URL': 'https://api.companieshouse.gov.uk', 'INSURANCE_SIC_CODES': ['651', '652'], 'ITEMS_PER_PAGE': 100, 'MAX_REQUESTS': 590, 'MAX_RESULTS': 1000, 'OUTPUT_DIR': PosixPath('insurance_companies_data'), 'SEARCH_TERMS': ['insurance company', 'insurance limited', 'insurance ltd', 'insurance plc', 'assurance company', 'assurance limited', 'assurance ltd', 'assurance plc'], 'TIME_WINDOW': 300, 'api_key': ****API KEY****, 'arbitrary_types_allowed': True}\n"
     ]
    }
   ],
   "source": [
    "Config = ch.Config(api_key)\n",
    "\n",
    "# Get all class attributes including constants\n",
    "class_values = {attr: getattr(Config, attr) for attr in dir(Config) \n",
    "                if not attr.startswith('__') and not callable(getattr(Config, attr))}\n",
    "# Get instance attributes\n",
    "instance_values = Config.__dict__  # For your specific instance\n",
    "\n",
    "# Combine both\n",
    "all_values = {**class_values, **instance_values}\n",
    "print(all_values)"
   ]
  },
  {
   "cell_type": "code",
   "execution_count": 19,
   "metadata": {},
   "outputs": [
    {
     "data": {
      "text/plain": [
       "{'BASE_URL': 'https://api.companieshouse.gov.uk',\n",
       " 'INSURANCE_SIC_CODES': ['651', '652'],\n",
       " 'ITEMS_PER_PAGE': 100,\n",
       " 'MAX_REQUESTS': 590,\n",
       " 'MAX_RESULTS': 1000,\n",
       " 'OUTPUT_DIR': PosixPath('insurance_companies_data'),\n",
       " 'SEARCH_TERMS': ['insurance company',\n",
       "  'insurance limited',\n",
       "  'insurance ltd',\n",
       "  'insurance plc',\n",
       "  'assurance company',\n",
       "  'assurance limited',\n",
       "  'assurance ltd',\n",
       "  'assurance plc'],\n",
       " 'TIME_WINDOW': 300,\n",
       " 'api_key': ****API KEY****,\n",
       " 'arbitrary_types_allowed': True}"
      ]
     },
     "execution_count": 19,
     "metadata": {},
     "output_type": "execute_result"
    }
   ],
   "source": [
    "class_values\n"
   ]
  },
  {
   "cell_type": "markdown",
   "metadata": {},
   "source": [
    "#### setup_logger"
   ]
  },
  {
   "cell_type": "code",
   "execution_count": 25,
   "metadata": {},
   "outputs": [
    {
     "data": {
      "text/plain": [
       "<RootLogger root (INFO)>"
      ]
     },
     "execution_count": 25,
     "metadata": {},
     "output_type": "execute_result"
    }
   ],
   "source": [
    "logger = ch.setup_logging()\n",
    "logger"
   ]
  },
  {
   "cell_type": "markdown",
   "metadata": {},
   "source": [
    "#### APIResponse"
   ]
  },
  {
   "cell_type": "code",
   "execution_count": 10,
   "metadata": {},
   "outputs": [
    {
     "data": {
      "text/plain": [
       "APIResponse(items=None, total_results=None, page_number=None, kind='None')"
      ]
     },
     "execution_count": 10,
     "metadata": {},
     "output_type": "execute_result"
    }
   ],
   "source": [
    "ch.APIResponse()"
   ]
  },
  {
   "cell_type": "markdown",
   "metadata": {},
   "source": [
    "#### CompaniesHouseAPI"
   ]
  },
  {
   "cell_type": "code",
   "execution_count": 13,
   "metadata": {},
   "outputs": [
    {
     "name": "stdout",
     "output_type": "stream",
     "text": [
      "Invalid api_key: ch.APIResponse()\n"
     ]
    }
   ],
   "source": [
    "# %load CompaniesHouseAPI.py\n",
    "class CompaniesHouseAPI:\n",
    "\n",
    "    import logging\n",
    "    import base64\n",
    "    import requests\n",
    "    from typing import Optional, Dict, Any\n",
    "    from requests.adapters import HTTPAdapter\n",
    "    from requests.packages.urllib3.util.retry import Retry\n",
    "    # from .Config import Config\n",
    "    # from .RateLimiter import RateLimiter\n",
    "    # from .APIResponse import APIResponse\n",
    "    # from COMPANIES-HOUSE-PROJECT.python_examples.Fix_Pydantic_nested_models \\\n",
    "    #     import Config, APIResponse, RegisteredOffice, CompanyData\n",
    "    # import Fix_Pydantic_nested_models\n",
    "    from chtools.Company_Info import Config, APIResponse, RegisteredOffice, CompanyData\n",
    "    from chtools.RateLimiter import RateLimiter\n",
    "    from chtools.get_api_key import get_api_key\n",
    "    from chtools.setup_logging import setup_logging\n",
    "    logger = setup_logging()\n",
    "    api_key = get_api_key()\n",
    "\n",
    "    \"\"\"Handler for Companies House API interactions.\"\"\"\n",
    "\n",
    "    def __init__(self, api_key: str, logger: logging.Logger, rate_limiter: Optional[RateLimiter] = None, config: Optional[Config] = None):\n",
    "        self.api_key = api_key\n",
    "        self.logger = logger\n",
    "        # Pass logger to RateLimiter\n",
    "        self.rate_limiter = rate_limiter or RateLimiter(config.MAX_REQUESTS, config.TIME_WINDOW, self.logger)  # If rate limiter not passed in use a default one\n",
    "        self.session = self._create_session()\n",
    "        self.config = config if config else Config(api_key=api_key)\n",
    "\n",
    "        # Create base64 encoded authentication\n",
    "        auth = base64.b64encode(f\"{api_key}:\".encode('ascii')).decode('ascii')\n",
    "        self.headers = {\n",
    "            'Authorization': f'Basic {auth}',\n",
    "            'Accept': 'application/json'\n",
    "        }\n",
    "        self.logger.debug(\"CompaniesHouseAPI Initialized\")\n",
    "\n",
    "    @staticmethod\n",
    "    def _create_session() -> requests.Session:\n",
    "        \"\"\"Create a session with retry strategy.\"\"\"\n",
    "        session = requests.Session()\n",
    "        retry_strategy = Retry(\n",
    "            total=3,\n",
    "            backoff_factor=1,\n",
    "            status_forcelist=[429, 500, 502, 503, 504]\n",
    "        )\n",
    "        adapter = HTTPAdapter(max_retries=retry_strategy)\n",
    "        session.mount(\"https://\", adapter)\n",
    "        return session\n",
    "\n",
    "    def search_companies(self, search_term: str, start_index: int = 0) -> Optional[APIResponse]:\n",
    "        \"\"\"Search for companies using the Companies House API.\"\"\"\n",
    "        params = {\n",
    "            'q': search_term,\n",
    "            'items_per_page': self.config.ITEMS_PER_PAGE,\n",
    "            'start_index': start_index,\n",
    "            'company_status': 'active'\n",
    "        }\n",
    "\n",
    "        try:\n",
    "            self.rate_limiter.wait_if_needed()\n",
    "\n",
    "            if start_index >= self.config.MAX_RESULTS:\n",
    "                self.logger.info(f\"Reached maximum results limit ({self.config.MAX_RESULTS}) for search term: {search_term}\")\n",
    "                return APIResponse(items=[])\n",
    "\n",
    "            response = self.session.get(\n",
    "                f\"{self.config.BASE_URL}/search/companies\",\n",
    "                headers=self.headers,\n",
    "                params=params\n",
    "            )\n",
    "            response.raise_for_status()\n",
    "            \n",
    "            return APIResponse(**response.json())\n",
    "\n",
    "        except requests.exceptions.RequestException as e:\n",
    "            self.logger.error(f\"Error making request: {e}\")\n",
    "            return None\n",
    "\n",
    "    def get_company_details(self, company_number: str) -> Optional[Dict[str, Any]]:\n",
    "        \"\"\"Get detailed information for a specific company.\"\"\"\n",
    "        try:\n",
    "            self.rate_limiter.wait_if_needed()\n",
    "\n",
    "            response = self.session.get(\n",
    "                f\"{self.config.BASE_URL}/company/{company_number}\",\n",
    "                headers=self.headers\n",
    "            )\n",
    "            response.raise_for_status()\n",
    "            return response.json()\n",
    "\n",
    "        except requests.exceptions.RequestException as e:\n",
    "            self.logger.error(f\"Error fetching details for company {company_number}: {e}\")\n",
    "            return None"
   ]
  },
  {
   "cell_type": "code",
   "execution_count": 11,
   "metadata": {},
   "outputs": [
    {
     "ename": "NameError",
     "evalue": "name 'requests' is not defined",
     "output_type": "error",
     "traceback": [
      "\u001b[0;31m---------------------------------------------------------------------------\u001b[0m",
      "\u001b[0;31mNameError\u001b[0m                                 Traceback (most recent call last)",
      "Cell \u001b[0;32mIn[11], line 3\u001b[0m\n\u001b[1;32m      1\u001b[0m logger \u001b[38;5;241m=\u001b[39m ch\u001b[38;5;241m.\u001b[39msetup_logging()\n\u001b[1;32m      2\u001b[0m rate_limiter \u001b[38;5;241m=\u001b[39m ch\u001b[38;5;241m.\u001b[39mRateLimiter\n\u001b[0;32m----> 3\u001b[0m ch_api \u001b[38;5;241m=\u001b[39m \u001b[43mch\u001b[49m\u001b[38;5;241;43m.\u001b[39;49m\u001b[43mCompaniesHouseAPI\u001b[49m\u001b[43m(\u001b[49m\u001b[43mapi_key\u001b[49m\u001b[43m,\u001b[49m\u001b[43m \u001b[49m\u001b[43mlogger\u001b[49m\u001b[43m,\u001b[49m\u001b[43m \u001b[49m\u001b[43mrate_limiter\u001b[49m\u001b[43m)\u001b[49m\n\u001b[1;32m      4\u001b[0m ch_api\n",
      "File \u001b[0;32m~/MEGAsync/01_WORK_IN_PROGRESS/companies-house-project/chtools/CompaniesHouseAPI.py:29\u001b[0m, in \u001b[0;36mCompaniesHouseAPI.__init__\u001b[0;34m(self, api_key, logger, rate_limiter, config)\u001b[0m\n\u001b[1;32m     27\u001b[0m \u001b[38;5;66;03m# Pass logger to RateLimiter\u001b[39;00m\n\u001b[1;32m     28\u001b[0m \u001b[38;5;28mself\u001b[39m\u001b[38;5;241m.\u001b[39mrate_limiter \u001b[38;5;241m=\u001b[39m rate_limiter \u001b[38;5;129;01mor\u001b[39;00m RateLimiter(config\u001b[38;5;241m.\u001b[39mMAX_REQUESTS, config\u001b[38;5;241m.\u001b[39mTIME_WINDOW, \u001b[38;5;28mself\u001b[39m\u001b[38;5;241m.\u001b[39mlogger)  \u001b[38;5;66;03m# If rate limiter not passed in use a default one\u001b[39;00m\n\u001b[0;32m---> 29\u001b[0m \u001b[38;5;28mself\u001b[39m\u001b[38;5;241m.\u001b[39msession \u001b[38;5;241m=\u001b[39m \u001b[38;5;28;43mself\u001b[39;49m\u001b[38;5;241;43m.\u001b[39;49m\u001b[43m_create_session\u001b[49m\u001b[43m(\u001b[49m\u001b[43m)\u001b[49m\n\u001b[1;32m     30\u001b[0m \u001b[38;5;28mself\u001b[39m\u001b[38;5;241m.\u001b[39mconfig \u001b[38;5;241m=\u001b[39m config \u001b[38;5;28;01mif\u001b[39;00m config \u001b[38;5;28;01melse\u001b[39;00m Config(api_key\u001b[38;5;241m=\u001b[39mapi_key)\n\u001b[1;32m     32\u001b[0m \u001b[38;5;66;03m# Create base64 encoded authentication\u001b[39;00m\n",
      "File \u001b[0;32m~/MEGAsync/01_WORK_IN_PROGRESS/companies-house-project/chtools/CompaniesHouseAPI.py:43\u001b[0m, in \u001b[0;36mCompaniesHouseAPI._create_session\u001b[0;34m()\u001b[0m\n\u001b[1;32m     40\u001b[0m \u001b[38;5;129m@staticmethod\u001b[39m\n\u001b[1;32m     41\u001b[0m \u001b[38;5;28;01mdef\u001b[39;00m\u001b[38;5;250m \u001b[39m\u001b[38;5;21m_create_session\u001b[39m() \u001b[38;5;241m-\u001b[39m\u001b[38;5;241m>\u001b[39m requests\u001b[38;5;241m.\u001b[39mSession:\n\u001b[1;32m     42\u001b[0m \u001b[38;5;250m    \u001b[39m\u001b[38;5;124;03m\"\"\"Create a session with retry strategy.\"\"\"\u001b[39;00m\n\u001b[0;32m---> 43\u001b[0m     session \u001b[38;5;241m=\u001b[39m \u001b[43mrequests\u001b[49m\u001b[38;5;241m.\u001b[39mSession()\n\u001b[1;32m     44\u001b[0m     retry_strategy \u001b[38;5;241m=\u001b[39m Retry(\n\u001b[1;32m     45\u001b[0m         total\u001b[38;5;241m=\u001b[39m\u001b[38;5;241m3\u001b[39m,\n\u001b[1;32m     46\u001b[0m         backoff_factor\u001b[38;5;241m=\u001b[39m\u001b[38;5;241m1\u001b[39m,\n\u001b[1;32m     47\u001b[0m         status_forcelist\u001b[38;5;241m=\u001b[39m[\u001b[38;5;241m429\u001b[39m, \u001b[38;5;241m500\u001b[39m, \u001b[38;5;241m502\u001b[39m, \u001b[38;5;241m503\u001b[39m, \u001b[38;5;241m504\u001b[39m]\n\u001b[1;32m     48\u001b[0m     )\n\u001b[1;32m     49\u001b[0m     adapter \u001b[38;5;241m=\u001b[39m HTTPAdapter(max_retries\u001b[38;5;241m=\u001b[39mretry_strategy)\n",
      "\u001b[0;31mNameError\u001b[0m: name 'requests' is not defined"
     ]
    }
   ],
   "source": [
    "logger = ch.setup_logging()\n",
    "rate_limiter = ch.RateLimiter\n",
    "ch_api = ch.CompaniesHouseAPI(api_key, logger, rate_limiter)\n",
    "ch_api"
   ]
  }
 ],
 "metadata": {
  "kernelspec": {
   "display_name": "ch",
   "language": "python",
   "name": "python3"
  },
  "language_info": {
   "codemirror_mode": {
    "name": "ipython",
    "version": 3
   },
   "file_extension": ".py",
   "mimetype": "text/x-python",
   "name": "python",
   "nbconvert_exporter": "python",
   "pygments_lexer": "ipython3",
   "version": "3.10.16"
  }
 },
 "nbformat": 4,
 "nbformat_minor": 2
}
